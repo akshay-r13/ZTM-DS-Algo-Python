{
 "cells": [
  {
   "cell_type": "markdown",
   "id": "willing-batman",
   "metadata": {},
   "source": [
    "// O(1) -> Assignment# Big O Calculation - Exercise 1\n",
    "\n",
    "**Goal:** To calculate the Big O Notation of the following function\n",
    "\n",
    "**Language**: `Javascript`\n",
    "\n",
    "\n",
    "```javascript\n",
    "function funChallenge(input) {\n",
    "  let a = 10;\n",
    "  a = 50 + 3;\n",
    "\n",
    "  for (let i = 0; i < input.length; i++) {\n",
    "    anotherFunction();\n",
    "    let stranger = true;\n",
    "    a++;\n",
    "  }\n",
    "  return a;\n",
    "}\n",
    "```\n",
    "\n",
    "**Analysis:**\n",
    "\n",
    "Code analysis line by line\n",
    "\n",
    "```javascript\n",
    "    let a = 10; // O(1) -> Assignment\n",
    "\n",
    "    a = 50 + 3; // O(1) -> Assignment\n",
    "\n",
    "    for (let i = 0; i < input.length; i++) { // O(n) -> loop depends on length of input ( n ). Each operation in loops is executed n times totally\n",
    "\n",
    "        anotherFunction(); // O(n)* O(1) as function has no dependency on input size\n",
    "\n",
    "        let stranger = true; // O(n) * O(1) -> Assignment\n",
    "\n",
    "        let a = 10; // O(n) * O(1) -> Assignment\n",
    "    }\n",
    "    return a; // O(1) -> Value return\n",
    "```\n",
    "\n",
    "**Calculation:** \n",
    "\n",
    "```\n",
    "    O(fn) = O(1 + 1 + n + n + n + 1)\n",
    "    O(fn) = O(3 + 3n)\n",
    "    Simplified as: \n",
    "    O(fn) = O(n)\n",
    "```\n",
    "\n",
    "**Result:** Big O Notation of this function is `O(n)`\n",
    "\n",
    "**Notes:**\n",
    "1. Only the loop operation is dependent on input size\n",
    "2. Loops generally have O(n) execution time.\n",
    "3. Assignment has constant execution time\n",
    "4. Coefficients of O notation can be **simplified to 1**. ( O(3) => O(1) , O(2n) => O(n) )"
   ]
  },
  {
   "cell_type": "code",
   "execution_count": null,
   "id": "golden-tutorial",
   "metadata": {},
   "outputs": [],
   "source": []
  }
 ],
 "metadata": {
  "kernelspec": {
   "display_name": "Python 3",
   "language": "python",
   "name": "python3"
  },
  "language_info": {
   "codemirror_mode": {
    "name": "ipython",
    "version": 3
   },
   "file_extension": ".py",
   "mimetype": "text/x-python",
   "name": "python",
   "nbconvert_exporter": "python",
   "pygments_lexer": "ipython3",
   "version": "3.8.5"
  }
 },
 "nbformat": 4,
 "nbformat_minor": 5
}
